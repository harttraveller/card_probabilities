{
 "cells": [
  {
   "cell_type": "markdown",
   "metadata": {},
   "source": [
    "If you draw a card randomly from a deck, look at it, and it is an ace of hearts, and then you draw another card randomly from the deck, and don't look at it, what is the chance that that the second card is ace of spades? Is it 1/51 because now there are only 51 cards in the deck? No, it is still 1/52, because you could've drawn any other card the first time, so you don't fundamentally affect the probabilities. Here's the interesting thing, if you search through the deck, and intentionally withdraw the ace of hearts the first time, and then randomly draw a card, now there is a 1/51 chance it is an ace of spades. You can confirm this with simulations, but it also intuitively makes sense. Did your intentionality magically change probabilities? No, actually the answer is pretty simple, but it's deceptive in a similar way to the monty hall problem. Basically, you could've drawn the ace of spades the first time when you randomly selected a card, but your intentionality (in a way) in the second case eliminated that possibility because you withdrew the card, and thus changed the underlying probabilities."
   ]
  },
  {
   "cell_type": "code",
   "execution_count": 145,
   "metadata": {},
   "outputs": [],
   "source": [
    "import random\n",
    "import pandas as pd"
   ]
  },
  {
   "cell_type": "code",
   "execution_count": 146,
   "metadata": {},
   "outputs": [],
   "source": [
    "def gen_deck():\n",
    "    \"Returns a list of sorted cards.\"\n",
    "    values = ['A','2','3','4','5','6','7','8','9','10','J','Q','K']\n",
    "    suits = ['Spade','Heart','Club','Diamond']\n",
    "    cards = []\n",
    "    for s in suits:\n",
    "        for v in values:\n",
    "            cards.append(\"{}-{}\".format(v,s))\n",
    "    return cards"
   ]
  },
  {
   "cell_type": "code",
   "execution_count": 141,
   "metadata": {},
   "outputs": [],
   "source": [
    "def print_result(test):\n",
    "    # percent ace of spades\n",
    "    pas = (test.value_counts()/len(test))['A-Spade']\n",
    "    print(\"1/52 chance: {}\\n1/51 chance: {}\\nTest % A-Spade: {}\".format(round(1/52,4),round(1/51,4),round(pas,4)))"
   ]
  },
  {
   "cell_type": "markdown",
   "metadata": {},
   "source": [
    "**Test 1**\n",
    "\n",
    "We withdraw a card randomly without removing any other cards. We see what the probability of drawing an ace of spades given all our drawn cards"
   ]
  },
  {
   "cell_type": "code",
   "execution_count": 148,
   "metadata": {},
   "outputs": [],
   "source": [
    "def test_1(n):\n",
    "    # get sorted deck\n",
    "    cards = gen_deck()\n",
    "    # randomly draw a card n times\n",
    "    selections = []\n",
    "    for i in range(n):\n",
    "        selections.append(random.choice(cards))\n",
    "    return pd.Series(selections)"
   ]
  },
  {
   "cell_type": "code",
   "execution_count": 109,
   "metadata": {},
   "outputs": [],
   "source": [
    "t1 = test_1(int(1e7))"
   ]
  },
  {
   "cell_type": "code",
   "execution_count": 150,
   "metadata": {},
   "outputs": [
    {
     "data": {
      "text/plain": [
       "0      A-Spade\n",
       "1      J-Heart\n",
       "2       3-Club\n",
       "3    K-Diamond\n",
       "4       K-Club\n",
       "dtype: object"
      ]
     },
     "execution_count": 150,
     "metadata": {},
     "output_type": "execute_result"
    }
   ],
   "source": [
    "t1.head() # series of random draws"
   ]
  },
  {
   "cell_type": "markdown",
   "metadata": {},
   "source": [
    "A 1/52 chance is 0.0192 percent, a 1/51 chance is 0.0196 percent. We can compare this with the percent from our sample of drawn cards that were an ace of spades."
   ]
  },
  {
   "cell_type": "code",
   "execution_count": 151,
   "metadata": {},
   "outputs": [
    {
     "name": "stdout",
     "output_type": "stream",
     "text": [
      "1/52 chance: 0.0192\n",
      "1/51 chance: 0.0196\n",
      "Test % A-Spade: 0.0192\n"
     ]
    }
   ],
   "source": [
    "print_result(t1)"
   ]
  },
  {
   "cell_type": "markdown",
   "metadata": {},
   "source": [
    "**Test 2**\n",
    "\n",
    "We withdraw a random card, then run the test again in the exact same manner."
   ]
  },
  {
   "cell_type": "code",
   "execution_count": 152,
   "metadata": {},
   "outputs": [],
   "source": [
    "def test_2(cycles):\n",
    "    # get sorted deck\n",
    "    cards = gen_deck()\n",
    "    # shuffle cards, necessary so that the pop removes a random card\n",
    "    random.shuffle(cards)\n",
    "    # remove the top card after randomly shuffling\n",
    "    cards.pop()\n",
    "    # randomly choose card\n",
    "    selections = []\n",
    "    for i in range(cycles):\n",
    "        selections.append(random.choice(cards))\n",
    "    return pd.Series(selections)"
   ]
  },
  {
   "cell_type": "code",
   "execution_count": 112,
   "metadata": {},
   "outputs": [],
   "source": [
    "t2 = test_2(int(1e7))"
   ]
  },
  {
   "cell_type": "code",
   "execution_count": 113,
   "metadata": {},
   "outputs": [
    {
     "name": "stdout",
     "output_type": "stream",
     "text": [
      "1/52 chance: 0.0192\n",
      "1/51 chance: 0.0196\n",
      "Test % A-Spade: 0.0192\n"
     ]
    }
   ],
   "source": [
    "print_result(t2)"
   ]
  },
  {
   "cell_type": "markdown",
   "metadata": {},
   "source": [
    "**Test 3**\n",
    "\n",
    "We intentionally withdraw the ace of hearts, then run the test again, randomly choosing a card from a deck that specifically had the ace of hearts removed."
   ]
  },
  {
   "cell_type": "code",
   "execution_count": 153,
   "metadata": {},
   "outputs": [],
   "source": [
    "def test_3(cycles):\n",
    "    # get sorted deck\n",
    "    cards = gen_deck()\n",
    "    cards.pop(cards.index('A-Heart'))\n",
    "    selections = []\n",
    "    for i in range(cycles):\n",
    "        selections.append(random.choice(cards))\n",
    "    return pd.Series(selections)"
   ]
  },
  {
   "cell_type": "code",
   "execution_count": 154,
   "metadata": {},
   "outputs": [],
   "source": [
    "t3 = test_3(int(1e7))"
   ]
  },
  {
   "cell_type": "code",
   "execution_count": 155,
   "metadata": {},
   "outputs": [
    {
     "name": "stdout",
     "output_type": "stream",
     "text": [
      "1/52 chance: 0.0192\n",
      "1/51 chance: 0.0196\n",
      "Test % A-Spade: 0.0196\n"
     ]
    }
   ],
   "source": [
    "print_result(t3)"
   ]
  }
 ],
 "metadata": {
  "kernelspec": {
   "display_name": "Python 3",
   "language": "python",
   "name": "python3"
  },
  "language_info": {
   "codemirror_mode": {
    "name": "ipython",
    "version": 3
   },
   "file_extension": ".py",
   "mimetype": "text/x-python",
   "name": "python",
   "nbconvert_exporter": "python",
   "pygments_lexer": "ipython3",
   "version": "3.8.3"
  }
 },
 "nbformat": 4,
 "nbformat_minor": 4
}
